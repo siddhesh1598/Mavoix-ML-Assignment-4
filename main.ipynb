{
 "cells": [
  {
   "cell_type": "code",
   "execution_count": 1,
   "metadata": {},
   "outputs": [],
   "source": [
    "# import\n",
    "from sklearn.decomposition import PCA\n",
    "from sklearn.cluster import KMeans\n",
    "from sklearn.impute import SimpleImputer\n",
    "\n",
    "import numpy as np\n",
    "import pandas as pd\n",
    "import matplotlib.pyplot as plt\n",
    "import math\n",
    "\n",
    "%matplotlib inline"
   ]
  },
  {
   "cell_type": "code",
   "execution_count": 2,
   "metadata": {},
   "outputs": [
    {
     "data": {
      "text/plain": [
       "(2168, 11)"
      ]
     },
     "execution_count": 2,
     "metadata": {},
     "output_type": "execute_result"
    }
   ],
   "source": [
    "# read the dataset\n",
    "df = pd.read_excel('sample_data_v4.xlsx')\n",
    "df.shape"
   ]
  },
  {
   "cell_type": "code",
   "execution_count": 3,
   "metadata": {},
   "outputs": [
    {
     "data": {
      "text/html": [
       "<div>\n",
       "<style scoped>\n",
       "    .dataframe tbody tr th:only-of-type {\n",
       "        vertical-align: middle;\n",
       "    }\n",
       "\n",
       "    .dataframe tbody tr th {\n",
       "        vertical-align: top;\n",
       "    }\n",
       "\n",
       "    .dataframe thead th {\n",
       "        text-align: right;\n",
       "    }\n",
       "</style>\n",
       "<table border=\"1\" class=\"dataframe\">\n",
       "  <thead>\n",
       "    <tr style=\"text-align: right;\">\n",
       "      <th></th>\n",
       "      <th>Application ID</th>\n",
       "      <th>Current City</th>\n",
       "      <th>Other skills</th>\n",
       "      <th>Institute</th>\n",
       "      <th>Degree</th>\n",
       "      <th>Stream</th>\n",
       "      <th>Current Year Of Graduation</th>\n",
       "      <th>Performance_PG</th>\n",
       "      <th>Performance_UG</th>\n",
       "      <th>Performance_12</th>\n",
       "      <th>Performance_10</th>\n",
       "    </tr>\n",
       "  </thead>\n",
       "  <tbody>\n",
       "    <tr>\n",
       "      <th>0</th>\n",
       "      <td>MS0001</td>\n",
       "      <td>Pune</td>\n",
       "      <td>Machine Learning, Python</td>\n",
       "      <td>Don Bosco Institute of Technology</td>\n",
       "      <td>Bachelor of Engineering (B.E)</td>\n",
       "      <td>Mechanical Engineering</td>\n",
       "      <td>2018</td>\n",
       "      <td>NaN</td>\n",
       "      <td>8.13/10</td>\n",
       "      <td>NaN</td>\n",
       "      <td>NaN</td>\n",
       "    </tr>\n",
       "    <tr>\n",
       "      <th>1</th>\n",
       "      <td>MS0002</td>\n",
       "      <td>Pune</td>\n",
       "      <td>Machine Learning, Python</td>\n",
       "      <td>PES MCOE, Pune</td>\n",
       "      <td>Bachelor of Engineering (B.E)</td>\n",
       "      <td>Electronics and Telecommunication Engineering ...</td>\n",
       "      <td>2018</td>\n",
       "      <td>NaN</td>\n",
       "      <td>66.00/100</td>\n",
       "      <td>NaN</td>\n",
       "      <td>NaN</td>\n",
       "    </tr>\n",
       "    <tr>\n",
       "      <th>2</th>\n",
       "      <td>MS0003</td>\n",
       "      <td>Navi Mumbai</td>\n",
       "      <td>Data Analytics, Data Science, Machine Learning...</td>\n",
       "      <td>Imarticus Learning</td>\n",
       "      <td>PG Diploma in Data Science</td>\n",
       "      <td>NaN</td>\n",
       "      <td>2020</td>\n",
       "      <td>NaN</td>\n",
       "      <td>7.00/10</td>\n",
       "      <td>NaN</td>\n",
       "      <td>NaN</td>\n",
       "    </tr>\n",
       "    <tr>\n",
       "      <th>3</th>\n",
       "      <td>MS0004</td>\n",
       "      <td>Bangalore</td>\n",
       "      <td>Data Analytics, Algorithms, C Programming, Dat...</td>\n",
       "      <td>Dayananda Sagar Institutions</td>\n",
       "      <td>Bachelor of Technology (B.Tech)</td>\n",
       "      <td>Information Technology</td>\n",
       "      <td>2022</td>\n",
       "      <td>NaN</td>\n",
       "      <td>NaN</td>\n",
       "      <td>86.80/86.80</td>\n",
       "      <td>10.00/10.00</td>\n",
       "    </tr>\n",
       "    <tr>\n",
       "      <th>4</th>\n",
       "      <td>MS0005</td>\n",
       "      <td>Mumbai</td>\n",
       "      <td>Artifical Intelligence, Computer Vision, Deep ...</td>\n",
       "      <td>Pillai Hoc College Of Engineering And Technolo...</td>\n",
       "      <td>Bachelor of Engineering (B.E)</td>\n",
       "      <td>Information Technology</td>\n",
       "      <td>2020</td>\n",
       "      <td>NaN</td>\n",
       "      <td>6.22/10</td>\n",
       "      <td>NaN</td>\n",
       "      <td>NaN</td>\n",
       "    </tr>\n",
       "  </tbody>\n",
       "</table>\n",
       "</div>"
      ],
      "text/plain": [
       "  Application ID Current City  \\\n",
       "0         MS0001         Pune   \n",
       "1         MS0002         Pune   \n",
       "2         MS0003  Navi Mumbai   \n",
       "3         MS0004    Bangalore   \n",
       "4         MS0005       Mumbai   \n",
       "\n",
       "                                        Other skills  \\\n",
       "0                           Machine Learning, Python   \n",
       "1                           Machine Learning, Python   \n",
       "2  Data Analytics, Data Science, Machine Learning...   \n",
       "3  Data Analytics, Algorithms, C Programming, Dat...   \n",
       "4  Artifical Intelligence, Computer Vision, Deep ...   \n",
       "\n",
       "                                           Institute  \\\n",
       "0                  Don Bosco Institute of Technology   \n",
       "1                                     PES MCOE, Pune   \n",
       "2                                 Imarticus Learning   \n",
       "3                       Dayananda Sagar Institutions   \n",
       "4  Pillai Hoc College Of Engineering And Technolo...   \n",
       "\n",
       "                            Degree  \\\n",
       "0    Bachelor of Engineering (B.E)   \n",
       "1    Bachelor of Engineering (B.E)   \n",
       "2       PG Diploma in Data Science   \n",
       "3  Bachelor of Technology (B.Tech)   \n",
       "4    Bachelor of Engineering (B.E)   \n",
       "\n",
       "                                              Stream  \\\n",
       "0                             Mechanical Engineering   \n",
       "1  Electronics and Telecommunication Engineering ...   \n",
       "2                                                NaN   \n",
       "3                             Information Technology   \n",
       "4                             Information Technology   \n",
       "\n",
       "   Current Year Of Graduation Performance_PG Performance_UG Performance_12  \\\n",
       "0                        2018            NaN        8.13/10            NaN   \n",
       "1                        2018            NaN      66.00/100            NaN   \n",
       "2                        2020            NaN        7.00/10            NaN   \n",
       "3                        2022            NaN            NaN    86.80/86.80   \n",
       "4                        2020            NaN        6.22/10            NaN   \n",
       "\n",
       "  Performance_10  \n",
       "0            NaN  \n",
       "1            NaN  \n",
       "2            NaN  \n",
       "3    10.00/10.00  \n",
       "4            NaN  "
      ]
     },
     "execution_count": 3,
     "metadata": {},
     "output_type": "execute_result"
    }
   ],
   "source": [
    "# print the head\n",
    "df.head()"
   ]
  },
  {
   "cell_type": "code",
   "execution_count": 4,
   "metadata": {},
   "outputs": [],
   "source": [
    "# Drop the columns which are not required\n",
    "dataset = df.drop([\"Current City\", \"Degree\", \"Stream\", \"Current Year Of Graduation\"], axis=1)"
   ]
  },
  {
   "cell_type": "code",
   "execution_count": 5,
   "metadata": {},
   "outputs": [
    {
     "name": "stdout",
     "output_type": "stream",
     "text": [
      "Application ID: 0\n",
      "Other skills: 38\n",
      "Institute: 13\n",
      "Performance_PG: 1817\n",
      "Performance_UG: 334\n",
      "Performance_12: 780\n",
      "Performance_10: 880\n"
     ]
    }
   ],
   "source": [
    "# print all the NaN values in the dataset\n",
    "for c in dataset.columns:\n",
    "    print(c, end=\": \")\n",
    "    print(sum(dataset[c].isnull()))"
   ]
  },
  {
   "cell_type": "code",
   "execution_count": 6,
   "metadata": {},
   "outputs": [],
   "source": [
    "# Drop rows with \"NaN\" values in \"Other skill\" and \"Institute\"\n",
    "dataset = dataset.dropna(subset=[\"Institute\", \"Other skills\"])"
   ]
  },
  {
   "cell_type": "code",
   "execution_count": 7,
   "metadata": {},
   "outputs": [],
   "source": [
    "# Cleaning the Other skills column\n",
    "# Replace the list of skills with a scalar number\n",
    "# w.r.t the requirements mentioned\n",
    "requirements = {\"web_developer\": [\"HTML\", \"CSS\", \"Bootstrap\", \"AJAX\", \"JavaScript\", \"PHP\", \"MySQL\", \"REST API\", \"AWS/GCP\",\n",
    "                                  \"Git/GitHub\", \"Python\", \"Linux\", \"JSON\", \"Authentication/Authorization (JWT)\"],\n",
    "               \"full_stack_developer\": [\"HTML\", \"CSS\", \"MongoDB\", \"Express\", \"React.js\", \"Node.js\", \"ES6\", \"Redux\",\n",
    "                                        \"JavaScript\", \"AWS/GCP\", \"Python\", \"Linux\", \"JSON\", \"Authentication/Authorization (JWT)\"],\n",
    "                \"ml_developer\": [\"Python\", \"TensorFlow\", \"PyTorch\", \"NumPy\", \"PyPI\", \"Sci-kit learn\", \"Statistical Modelling\", \n",
    "                                 \"Machine Learning\", \"Deep Learning\", \"SQL\", \"JSON\", \"AWS/GCP/Heroku\", \"Flask\"]}"
   ]
  },
  {
   "cell_type": "code",
   "execution_count": 8,
   "metadata": {},
   "outputs": [],
   "source": [
    "SkillScore = list()\n",
    "\n",
    "for r in dataset[\"Other skills\"]:\n",
    "    wd = 0\n",
    "    fsd = 0\n",
    "    mld = 0\n",
    "    \n",
    "    skills = r.split(\", \")\n",
    "    for skill in skills:\n",
    "        if skill in requirements[\"web_developer\"]:\n",
    "            wd += 1\n",
    "        if skill in requirements[\"full_stack_developer\"]:\n",
    "            fsd += 1\n",
    "        if skill in requirements[\"ml_developer\"]:\n",
    "            mld += 1\n",
    "    \n",
    "    rel_wd = wd / len(requirements[\"web_developer\"])\n",
    "    rel_fsd = fsd / len(requirements[\"full_stack_developer\"])\n",
    "    rel_mld = mld / len(requirements[\"ml_developer\"])\n",
    "    \n",
    "    SkillScore.append(max(rel_wd, rel_fsd, rel_mld))      \n",
    "\n",
    "# SkillScore = pd.DataFrame(SkillScore)\n",
    "# SkillScore.shape"
   ]
  },
  {
   "cell_type": "code",
   "execution_count": 9,
   "metadata": {},
   "outputs": [],
   "source": [
    "# Cleaning Institute column\n",
    "# Replace the institute names with their tiers\n",
    "# Tier 1: \"IIT\" and \"NIT\" Institutes\n",
    "# Keep Tier as boolean value: \n",
    "# 1 -> Tier 1       0 -> Not Tier 1\n",
    "Tier = []\n",
    "for inst in dataset[\"Institute\"]:\n",
    "    if (inst.count(\"IIT \") or (inst.count(\"NIT \"))): \n",
    "        Tier.append(1)\n",
    "    else:\n",
    "        Tier.append(0)\n",
    "\n",
    "# Tier = pd.DataFrame(Tier)\n",
    "# Tier.shape"
   ]
  },
  {
   "cell_type": "code",
   "execution_count": 10,
   "metadata": {},
   "outputs": [],
   "source": [
    "# Cleaning Performance_10 column\n",
    "# Replace the string values with their numeric form\n",
    "P_10 = []\n",
    "\n",
    "for r in dataset[\"Performance_10\"]:\n",
    "    if type(r) == str:\n",
    "        marks = float(r.split(\"/\")[0])\n",
    "        if marks > 10:\n",
    "            marks /= 10\n",
    "    else:\n",
    "        marks = \"NaN\"\n",
    "    \n",
    "    P_10.append(marks)\n",
    "\n",
    "# P_10 = pd.DataFrame(P_10)\n",
    "# P_10.shape"
   ]
  },
  {
   "cell_type": "code",
   "execution_count": 11,
   "metadata": {},
   "outputs": [],
   "source": [
    "# Cleaning Performance_12 column\n",
    "# Replace the string values with their numeric form\n",
    "P_12 = []\n",
    "\n",
    "for r in dataset[\"Performance_12\"]:\n",
    "    if type(r) == str:\n",
    "        marks = float(r.split(\"/\")[0])\n",
    "        if marks > 10:\n",
    "            marks /= 10\n",
    "    else:\n",
    "        marks = \"NaN\"\n",
    "    \n",
    "    P_12.append(marks)\n",
    "\n",
    "# P_12 = pd.DataFrame(P_12)\n",
    "# P_12.shape"
   ]
  },
  {
   "cell_type": "code",
   "execution_count": 12,
   "metadata": {},
   "outputs": [],
   "source": [
    "# Cleaning Performance_UG column\n",
    "# Replace the string values with their numeric form\n",
    "UG = []\n",
    "for r in dataset[\"Performance_UG\"]:\n",
    "    if type(r) == str:\n",
    "        marks, total = float(r.split(\"/\")[0]), float(r.split(\"/\")[1])\n",
    "        if total == 100:\n",
    "            marks /= 10\n",
    "    else:\n",
    "        marks = \"NaN\"\n",
    "    \n",
    "    UG.append(marks)\n",
    "\n",
    "# UG = pd.DataFrame(UG)\n",
    "# UG.shape"
   ]
  },
  {
   "cell_type": "code",
   "execution_count": 13,
   "metadata": {},
   "outputs": [],
   "source": [
    "# Cleaning Performance_PG column\n",
    "# Replace the string values with their numeric form\n",
    "PG = []\n",
    "for r in dataset[\"Performance_PG\"]:\n",
    "    if type(r) == str:\n",
    "        marks, total = float(r.split(\"/\")[0]), float(r.split(\"/\")[1])\n",
    "        if total == 100:\n",
    "            marks /= 10\n",
    "    else:\n",
    "        marks = \"NaN\"\n",
    "    \n",
    "    PG.append(marks)\n",
    "\n",
    "# PG = pd.DataFrame(PG)\n",
    "# PG.shape"
   ]
  },
  {
   "cell_type": "code",
   "execution_count": 14,
   "metadata": {},
   "outputs": [],
   "source": [
    "# Generate a new DataFrame consisting of all the Performance score\n",
    "Performance = pd.DataFrame()\n",
    "Performance[\"Performance_PG\"] = PG\n",
    "Performance[\"Performance_UG\"] = UG\n",
    "Performance[\"Performance_12\"] = P_12\n",
    "Performance[\"Performance_10\"] = P_10"
   ]
  },
  {
   "cell_type": "code",
   "execution_count": 15,
   "metadata": {},
   "outputs": [],
   "source": [
    "# Impute values using the mean\n",
    "imputer = SimpleImputer(strategy='mean')\n",
    "imputer.fit(np.array(Performance))\n",
    "Performance_imputed = pd.DataFrame(imputer.transform(Performance), columns=Performance.columns)"
   ]
  },
  {
   "cell_type": "code",
   "execution_count": 16,
   "metadata": {},
   "outputs": [
    {
     "name": "stdout",
     "output_type": "stream",
     "text": [
      "Performance_PG: 0\n",
      "Performance_UG: 0\n",
      "Performance_12: 0\n",
      "Performance_10: 0\n"
     ]
    }
   ],
   "source": [
    "# Check for any null values in the Imputed DataFrame\n",
    "for c in Performance_imputed.columns:\n",
    "    print(c, end=\": \")\n",
    "    print(sum(Performance_imputed[c].isnull()))"
   ]
  },
  {
   "cell_type": "code",
   "execution_count": 17,
   "metadata": {},
   "outputs": [],
   "source": [
    "# Replace the columns in the original dataset with the cleaned \n",
    "# and the imputed version\n",
    "dataset[\"Performance_PG\"] = Performance_imputed[\"Performance_PG\"]\n",
    "dataset[\"Performance_UG\"] = Performance_imputed[\"Performance_UG\"]\n",
    "dataset[\"Performance_12\"] = Performance_imputed[\"Performance_12\"]\n",
    "dataset[\"Performance_10\"] = Performance_imputed[\"Performance_10\"]\n",
    "dataset[\"Other skills\"] = SkillScore\n",
    "dataset[\"Institute\"] = Tier"
   ]
  },
  {
   "cell_type": "code",
   "execution_count": 18,
   "metadata": {},
   "outputs": [
    {
     "data": {
      "text/html": [
       "<div>\n",
       "<style scoped>\n",
       "    .dataframe tbody tr th:only-of-type {\n",
       "        vertical-align: middle;\n",
       "    }\n",
       "\n",
       "    .dataframe tbody tr th {\n",
       "        vertical-align: top;\n",
       "    }\n",
       "\n",
       "    .dataframe thead th {\n",
       "        text-align: right;\n",
       "    }\n",
       "</style>\n",
       "<table border=\"1\" class=\"dataframe\">\n",
       "  <thead>\n",
       "    <tr style=\"text-align: right;\">\n",
       "      <th></th>\n",
       "      <th>Application ID</th>\n",
       "      <th>Other skills</th>\n",
       "      <th>Institute</th>\n",
       "      <th>Performance_PG</th>\n",
       "      <th>Performance_UG</th>\n",
       "      <th>Performance_12</th>\n",
       "      <th>Performance_10</th>\n",
       "    </tr>\n",
       "  </thead>\n",
       "  <tbody>\n",
       "    <tr>\n",
       "      <th>0</th>\n",
       "      <td>MS0001</td>\n",
       "      <td>0.153846</td>\n",
       "      <td>0</td>\n",
       "      <td>7.152901</td>\n",
       "      <td>8.130000</td>\n",
       "      <td>8.088898</td>\n",
       "      <td>8.666061</td>\n",
       "    </tr>\n",
       "    <tr>\n",
       "      <th>1</th>\n",
       "      <td>MS0002</td>\n",
       "      <td>0.153846</td>\n",
       "      <td>0</td>\n",
       "      <td>7.152901</td>\n",
       "      <td>6.600000</td>\n",
       "      <td>8.088898</td>\n",
       "      <td>8.666061</td>\n",
       "    </tr>\n",
       "    <tr>\n",
       "      <th>2</th>\n",
       "      <td>MS0003</td>\n",
       "      <td>0.153846</td>\n",
       "      <td>0</td>\n",
       "      <td>7.152901</td>\n",
       "      <td>7.000000</td>\n",
       "      <td>8.088898</td>\n",
       "      <td>8.666061</td>\n",
       "    </tr>\n",
       "    <tr>\n",
       "      <th>3</th>\n",
       "      <td>MS0004</td>\n",
       "      <td>0.307692</td>\n",
       "      <td>0</td>\n",
       "      <td>7.152901</td>\n",
       "      <td>7.275747</td>\n",
       "      <td>8.680000</td>\n",
       "      <td>10.000000</td>\n",
       "    </tr>\n",
       "    <tr>\n",
       "      <th>4</th>\n",
       "      <td>MS0005</td>\n",
       "      <td>0.307692</td>\n",
       "      <td>0</td>\n",
       "      <td>7.152901</td>\n",
       "      <td>6.220000</td>\n",
       "      <td>8.088898</td>\n",
       "      <td>8.666061</td>\n",
       "    </tr>\n",
       "  </tbody>\n",
       "</table>\n",
       "</div>"
      ],
      "text/plain": [
       "  Application ID  Other skills  Institute  Performance_PG  Performance_UG  \\\n",
       "0         MS0001      0.153846          0        7.152901        8.130000   \n",
       "1         MS0002      0.153846          0        7.152901        6.600000   \n",
       "2         MS0003      0.153846          0        7.152901        7.000000   \n",
       "3         MS0004      0.307692          0        7.152901        7.275747   \n",
       "4         MS0005      0.307692          0        7.152901        6.220000   \n",
       "\n",
       "   Performance_12  Performance_10  \n",
       "0        8.088898        8.666061  \n",
       "1        8.088898        8.666061  \n",
       "2        8.088898        8.666061  \n",
       "3        8.680000       10.000000  \n",
       "4        8.088898        8.666061  "
      ]
     },
     "execution_count": 18,
     "metadata": {},
     "output_type": "execute_result"
    }
   ],
   "source": [
    "dataset.head()"
   ]
  },
  {
   "cell_type": "code",
   "execution_count": 19,
   "metadata": {},
   "outputs": [
    {
     "name": "stdout",
     "output_type": "stream",
     "text": [
      "Application ID: 0\n",
      "Other skills: 0\n",
      "Institute: 0\n",
      "Performance_PG: 0\n",
      "Performance_UG: 0\n",
      "Performance_12: 0\n",
      "Performance_10: 0\n"
     ]
    }
   ],
   "source": [
    "# Drop any remaining rows with \"NaN\" values\n",
    "dataset = dataset.dropna()\n",
    "\n",
    "# Check for any null values in the final dataset\n",
    "for c in dataset.columns:\n",
    "    print(c, end=\": \")\n",
    "    print(sum(dataset[c].isnull()))"
   ]
  },
  {
   "cell_type": "code",
   "execution_count": 20,
   "metadata": {},
   "outputs": [
    {
     "data": {
      "text/plain": [
       "(2069, 7)"
      ]
     },
     "execution_count": 20,
     "metadata": {},
     "output_type": "execute_result"
    }
   ],
   "source": [
    "# shape of the final dataset\n",
    "dataset.shape"
   ]
  },
  {
   "cell_type": "code",
   "execution_count": 21,
   "metadata": {},
   "outputs": [
    {
     "data": {
      "text/html": [
       "<div>\n",
       "<style scoped>\n",
       "    .dataframe tbody tr th:only-of-type {\n",
       "        vertical-align: middle;\n",
       "    }\n",
       "\n",
       "    .dataframe tbody tr th {\n",
       "        vertical-align: top;\n",
       "    }\n",
       "\n",
       "    .dataframe thead th {\n",
       "        text-align: right;\n",
       "    }\n",
       "</style>\n",
       "<table border=\"1\" class=\"dataframe\">\n",
       "  <thead>\n",
       "    <tr style=\"text-align: right;\">\n",
       "      <th></th>\n",
       "      <th>Other skills</th>\n",
       "      <th>Institute</th>\n",
       "      <th>Performance_PG</th>\n",
       "      <th>Performance_UG</th>\n",
       "      <th>Performance_12</th>\n",
       "      <th>Performance_10</th>\n",
       "    </tr>\n",
       "  </thead>\n",
       "  <tbody>\n",
       "    <tr>\n",
       "      <th>0</th>\n",
       "      <td>0.153846</td>\n",
       "      <td>0</td>\n",
       "      <td>7.152901</td>\n",
       "      <td>8.130000</td>\n",
       "      <td>8.088898</td>\n",
       "      <td>8.666061</td>\n",
       "    </tr>\n",
       "    <tr>\n",
       "      <th>1</th>\n",
       "      <td>0.153846</td>\n",
       "      <td>0</td>\n",
       "      <td>7.152901</td>\n",
       "      <td>6.600000</td>\n",
       "      <td>8.088898</td>\n",
       "      <td>8.666061</td>\n",
       "    </tr>\n",
       "    <tr>\n",
       "      <th>2</th>\n",
       "      <td>0.153846</td>\n",
       "      <td>0</td>\n",
       "      <td>7.152901</td>\n",
       "      <td>7.000000</td>\n",
       "      <td>8.088898</td>\n",
       "      <td>8.666061</td>\n",
       "    </tr>\n",
       "    <tr>\n",
       "      <th>3</th>\n",
       "      <td>0.307692</td>\n",
       "      <td>0</td>\n",
       "      <td>7.152901</td>\n",
       "      <td>7.275747</td>\n",
       "      <td>8.680000</td>\n",
       "      <td>10.000000</td>\n",
       "    </tr>\n",
       "    <tr>\n",
       "      <th>4</th>\n",
       "      <td>0.307692</td>\n",
       "      <td>0</td>\n",
       "      <td>7.152901</td>\n",
       "      <td>6.220000</td>\n",
       "      <td>8.088898</td>\n",
       "      <td>8.666061</td>\n",
       "    </tr>\n",
       "  </tbody>\n",
       "</table>\n",
       "</div>"
      ],
      "text/plain": [
       "   Other skills  Institute  Performance_PG  Performance_UG  Performance_12  \\\n",
       "0      0.153846          0        7.152901        8.130000        8.088898   \n",
       "1      0.153846          0        7.152901        6.600000        8.088898   \n",
       "2      0.153846          0        7.152901        7.000000        8.088898   \n",
       "3      0.307692          0        7.152901        7.275747        8.680000   \n",
       "4      0.307692          0        7.152901        6.220000        8.088898   \n",
       "\n",
       "   Performance_10  \n",
       "0        8.666061  \n",
       "1        8.666061  \n",
       "2        8.666061  \n",
       "3       10.000000  \n",
       "4        8.666061  "
      ]
     },
     "execution_count": 21,
     "metadata": {},
     "output_type": "execute_result"
    }
   ],
   "source": [
    "# Drop the \"Application ID\" column\n",
    "X = dataset.drop(\"Application ID\", axis=1)\n",
    "X.head()"
   ]
  },
  {
   "cell_type": "code",
   "execution_count": 22,
   "metadata": {},
   "outputs": [
    {
     "data": {
      "text/plain": [
       "Index(['Other skills', 'Institute', 'Performance_PG', 'Performance_UG',\n",
       "       'Performance_12', 'Performance_10'],\n",
       "      dtype='object')"
      ]
     },
     "execution_count": 22,
     "metadata": {},
     "output_type": "execute_result"
    }
   ],
   "source": [
    "X.columns"
   ]
  },
  {
   "cell_type": "code",
   "execution_count": 23,
   "metadata": {},
   "outputs": [],
   "source": [
    "continuous_columns = ['Other skills', 'Performance_PG', 'Performance_UG', 'Performance_12', 'Performance_10']\n",
    "mean = X.loc[:, continuous_columns].mean()\n",
    "std = X.loc[:, continuous_columns].std()\n",
    "X.loc[:, continuous_columns] = (X.loc[:, continuous_columns] - mean) / std"
   ]
  },
  {
   "cell_type": "code",
   "execution_count": 24,
   "metadata": {},
   "outputs": [],
   "source": [
    "# multiply the values with their Coefficients\n",
    "coef = [0.25, 0.01, 0.015, 0.15, 0.05, 0.005]\n",
    "X_scaled = X * coef"
   ]
  },
  {
   "cell_type": "code",
   "execution_count": 25,
   "metadata": {},
   "outputs": [
    {
     "data": {
      "text/plain": [
       "(2069, 2)"
      ]
     },
     "execution_count": 25,
     "metadata": {},
     "output_type": "execute_result"
    }
   ],
   "source": [
    "# Perform PCA to reduce the dimensions \n",
    "pca = PCA(n_components=2)\n",
    "X_pca = pca.fit_transform(X_scaled)\n",
    "X_pca.shape"
   ]
  },
  {
   "cell_type": "code",
   "execution_count": 26,
   "metadata": {},
   "outputs": [
    {
     "data": {
      "text/plain": [
       "Text(0, 0.5, 'Second Principal Component')"
      ]
     },
     "execution_count": 26,
     "metadata": {},
     "output_type": "execute_result"
    },
    {
     "data": {
      "image/png": "[encoded data removed]",
      "text/plain": [
       "<Figure size 576x432 with 1 Axes>"
      ]
     },
     "metadata": {
      "needs_background": "light"
     },
     "output_type": "display_data"
    }
   ],
   "source": [
    "# plot the dataset\n",
    "plt.figure(figsize=(8,6))\n",
    "plt.scatter(X_pca[:,0],X_pca[:,1],cmap='rainbow')\n",
    "plt.xlabel('First principal component')\n",
    "plt.ylabel('Second Principal Component')"
   ]
  },
  {
   "cell_type": "code",
   "execution_count": 27,
   "metadata": {},
   "outputs": [],
   "source": [
    "# perfrom KMeans Clustering on the dataset\n",
    "\n",
    "def doKmeans(X, nclust=2):\n",
    "    model = KMeans(nclust, random_state=10)\n",
    "    model.fit(X)\n",
    "    clust_labels = model.predict(X)\n",
    "    cent = model.cluster_centers_\n",
    "    \n",
    "    return (clust_labels, cent, model)\n",
    "\n",
    "clust_labels, cent, model = doKmeans(X_pca, 2)\n",
    "kmeans = pd.DataFrame(clust_labels)"
   ]
  },
  {
   "cell_type": "code",
   "execution_count": 28,
   "metadata": {},
   "outputs": [
    {
     "data": {
      "text/plain": [
       "array([0, 0, 0, ..., 0, 0, 1], dtype=int32)"
      ]
     },
     "execution_count": 28,
     "metadata": {},
     "output_type": "execute_result"
    }
   ],
   "source": [
    "clust_labels"
   ]
  },
  {
   "cell_type": "code",
   "execution_count": 29,
   "metadata": {},
   "outputs": [
    {
     "data": {
      "image/png": "[encoded data removed]",
      "text/plain": [
       "<Figure size 432x288 with 1 Axes>"
      ]
     },
     "metadata": {
      "needs_background": "light"
     },
     "output_type": "display_data"
    }
   ],
   "source": [
    "plt.figure('K-means with 2 clusters')\n",
    "plt.scatter(X_pca[:, 0], X_pca[:, 1], c=model.labels_, cmap='rainbow')\n",
    "plt.show()"
   ]
  },
  {
   "cell_type": "code",
   "execution_count": 30,
   "metadata": {},
   "outputs": [],
   "source": [
    "# Generate test data\n",
    "columns = dataset.columns\n",
    "test_data = [[\"MS0001\", 0.05, 0.3, 0.3, 0.3, 0.3, 0.3],\n",
    "             [\"MS0002\", 0.08, 0.3, 0.3, 0.3, 0.3, 0.3],\n",
    "             [\"MS0003\", 0.3, 0.3, 0.3, 0.3, 0.3, 0.3],\n",
    "             [\"MS0004\", 0.5, 0.5, 0.5, 0.5, 0.5, 0.5],\n",
    "             [\"MS0005\", 0.75, 0.75, 0.75, 0.75, 0.75, 0.75],\n",
    "             [\"MS0006\", 1, 1, 1, 1, 1, 1]]\n",
    "df_test = pd.DataFrame(test_data, columns=columns)"
   ]
  },
  {
   "cell_type": "code",
   "execution_count": 31,
   "metadata": {},
   "outputs": [],
   "source": [
    "continuous_columns = ['Other skills', 'Performance_PG', 'Performance_UG', 'Performance_12', 'Performance_10']\n",
    "mean = df_test.loc[:, continuous_columns].mean()\n",
    "std = df_test.loc[:, continuous_columns].std()\n",
    "df_test.loc[:, continuous_columns] = (df_test.loc[:, continuous_columns] - mean) / std"
   ]
  },
  {
   "cell_type": "code",
   "execution_count": 32,
   "metadata": {},
   "outputs": [],
   "source": [
    "App_ID = np.array(df_test[\"Application ID\"])\n",
    "X_test = df_test.drop(\"Application ID\", axis=1)\n",
    "X_test = X_test * coef"
   ]
  },
  {
   "cell_type": "code",
   "execution_count": 33,
   "metadata": {},
   "outputs": [
    {
     "data": {
      "text/plain": [
       "(6, 2)"
      ]
     },
     "execution_count": 33,
     "metadata": {},
     "output_type": "execute_result"
    }
   ],
   "source": [
    "# perform pca transform on the test dataset\n",
    "X_test_pca = pca.transform(X_test)\n",
    "X_test_pca.shape"
   ]
  },
  {
   "cell_type": "code",
   "execution_count": 34,
   "metadata": {},
   "outputs": [
    {
     "data": {
      "text/plain": [
       "array([0, 0, 0, 0, 1, 1], dtype=int32)"
      ]
     },
     "execution_count": 34,
     "metadata": {},
     "output_type": "execute_result"
    }
   ],
   "source": [
    "model.predict(X_test_pca)"
   ]
  },
  {
   "cell_type": "code",
   "execution_count": 35,
   "metadata": {},
   "outputs": [
    {
     "name": "stdout",
     "output_type": "stream",
     "text": [
      "[INFO] Higher the Skill Gap, less the chance to qualify.\n",
      "\n",
      "Candidate MS0001 is not qualified for the interview.\n",
      "Skill Gap: 3.95\n",
      "\n",
      "Candidate MS0002 is not qualified for the interview.\n",
      "Skill Gap: 3.90\n",
      "\n",
      "Candidate MS0003 is not qualified for the interview.\n",
      "Skill Gap: 2.96\n",
      "\n",
      "Candidate MS0004 is not qualified for the interview.\n",
      "Skill Gap: 1.07\n",
      "\n",
      "Candidate MS0005 is qualified for the interview.\n",
      "\n",
      "Candidate MS0006 is qualified for the interview.\n",
      "\n"
     ]
    }
   ],
   "source": [
    "# predict the results for test data\n",
    "def euclidDistance(x, mean_skill):\n",
    "    x1, y1 = x\n",
    "    x2, y2 = mean_skill\n",
    "    \n",
    "    return(math.sqrt((x1-x2)**2 + (y1-y2)**2))\n",
    "\n",
    "predictions = model.predict(X_test_pca)\n",
    "\n",
    "print(\"[INFO] Higher the Skill Gap, less the chance to qualify.\\n\")\n",
    "for (i, pred) in enumerate(predictions):\n",
    "    if pred == 1:\n",
    "        print(\"Candidate {} is qualified for the interview.\\n\".format(App_ID[i]))\n",
    "    else:\n",
    "        print(\"Candidate {} is not qualified for the interview.\".format(App_ID[i]))\n",
    "    \n",
    "        t = X_test_pca[i]\n",
    "        euclidDist = []\n",
    "        for point in cent:\n",
    "            euclidDist.append(euclidDistance(t, point))\n",
    "\n",
    "\n",
    "        gap = abs(euclidDist[0] - euclidDist[1])\n",
    "        print(\"Skill Gap: {:.2f}\\n\".format((gap)*10))\n",
    "        "
   ]
  },
  {
   "cell_type": "code",
   "execution_count": null,
   "metadata": {},
   "outputs": [],
   "source": []
  }
 ],
 "metadata": {
  "kernelspec": {
   "display_name": "Python 3",
   "language": "python",
   "name": "python3"
  },
  "language_info": {
   "codemirror_mode": {
    "name": "ipython",
    "version": 3
   },
   "file_extension": ".py",
   "mimetype": "text/x-python",
   "name": "python",
   "nbconvert_exporter": "python",
   "pygments_lexer": "ipython3",
   "version": "3.5.2"
  }
 },
 "nbformat": 4,
 "nbformat_minor": 2
}
